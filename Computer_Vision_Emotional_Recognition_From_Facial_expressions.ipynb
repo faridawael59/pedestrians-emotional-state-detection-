{
  "nbformat": 4,
  "nbformat_minor": 0,
  "metadata": {
    "colab": {
      "provenance": []
    },
    "kernelspec": {
      "name": "python3",
      "display_name": "Python 3"
    },
    "language_info": {
      "name": "python"
    }
  },
  "cells": [
    {
      "cell_type": "code",
      "execution_count": null,
      "metadata": {
        "colab": {
          "base_uri": "https://localhost:8080/"
        },
        "id": "zS1tPB2d1aQP",
        "outputId": "9cfb8745-75af-4d55-a048-90b72d33d0a3"
      },
      "outputs": [
        {
          "output_type": "execute_result",
          "data": {
            "text/plain": [
              "['CK+48']"
            ]
          },
          "metadata": {},
          "execution_count": 7
        }
      ],
      "source": [
        "import zipfile\n",
        "import os\n",
        "\n",
        "# This should be the exact filename of your uploaded zip\n",
        "zip_path = \"/content/CK+48.zip\"\n",
        "\n",
        "# Don't put the `.zip` in the folder name — this is the folder where files will go\n",
        "extract_path = \"/content/CK+48\"\n",
        "\n",
        "# Extract\n",
        "with zipfile.ZipFile(zip_path, 'r') as zip_ref:\n",
        "    zip_ref.extractall(extract_path)\n",
        "\n",
        "# Check that it worked\n",
        "os.listdir(extract_path)\n"
      ]
    },
    {
      "cell_type": "code",
      "source": [
        "import cv2\n",
        "import os\n",
        "\n",
        "input_path = '/content/CK+48/CK+48'\n",
        "output_path = '/content/CK+48_Processed'\n",
        "os.makedirs(output_path, exist_ok=True)\n",
        "\n",
        "img_size = (128, 128)\n",
        "\n",
        "for emotion in os.listdir(input_path):\n",
        "    emotion_path = os.path.join(input_path, emotion)\n",
        "    save_emotion_path = os.path.join(output_path, emotion)\n",
        "    os.makedirs(save_emotion_path, exist_ok=True)\n",
        "\n",
        "    for filename in os.listdir(emotion_path):\n",
        "        img = cv2.imread(os.path.join(emotion_path, filename))\n",
        "        if img is None:\n",
        "            continue\n",
        "        gray = cv2.cvtColor(img, cv2.COLOR_BGR2GRAY)\n",
        "        resized = cv2.resize(gray, img_size)\n",
        "        cv2.imwrite(os.path.join(save_emotion_path, filename), resized)\n",
        "\n",
        "print(\"✅ Preprocessing done.\")\n"
      ],
      "metadata": {
        "colab": {
          "base_uri": "https://localhost:8080/"
        },
        "id": "TSv4xDF116Qu",
        "outputId": "c4441faa-b5ec-4898-b4e6-1b6e1ce05cdd"
      },
      "execution_count": null,
      "outputs": [
        {
          "output_type": "stream",
          "name": "stdout",
          "text": [
            "✅ Preprocessing done.\n"
          ]
        }
      ]
    },
    {
      "cell_type": "markdown",
      "source": [
        "Feature extraction using HOG and SVM model"
      ],
      "metadata": {
        "id": "QQj6xOsn4gw-"
      }
    },
    {
      "cell_type": "code",
      "source": [],
      "metadata": {
        "colab": {
          "base_uri": "https://localhost:8080/"
        },
        "id": "eou_agkO2aS6",
        "outputId": "7db06315-964f-49db-d74d-48051799e3a6"
      },
      "execution_count": null,
      "outputs": [
        {
          "output_type": "stream",
          "name": "stdout",
          "text": [
            "✅ Model trained and saved.\n",
            "✅ Accuracy: 0.9847715736040609\n",
            "              precision    recall  f1-score   support\n",
            "\n",
            "       anger       1.00      1.00      1.00        27\n",
            "    contempt       1.00      1.00      1.00        11\n",
            "     disgust       1.00      1.00      1.00        35\n",
            "        fear       1.00      0.80      0.89        15\n",
            "       happy       0.93      1.00      0.97        42\n",
            "     sadness       1.00      1.00      1.00        17\n",
            "    surprise       1.00      1.00      1.00        50\n",
            "\n",
            "    accuracy                           0.98       197\n",
            "   macro avg       0.99      0.97      0.98       197\n",
            "weighted avg       0.99      0.98      0.98       197\n",
            "\n"
          ]
        }
      ]
    },
    {
      "cell_type": "code",
      "source": [
        "from sklearn.metrics import classification_report\n",
        "\n",
        "print(classification_report(y_test, y_pred))\n"
      ],
      "metadata": {
        "colab": {
          "base_uri": "https://localhost:8080/"
        },
        "id": "NFzxdA8suB3s",
        "outputId": "42ff20a4-81aa-4a2d-81ed-7169c050ad87"
      },
      "execution_count": null,
      "outputs": [
        {
          "output_type": "stream",
          "name": "stdout",
          "text": [
            "              precision    recall  f1-score   support\n",
            "\n",
            "       anger       1.00      1.00      1.00        27\n",
            "    contempt       1.00      1.00      1.00        11\n",
            "     disgust       1.00      1.00      1.00        35\n",
            "        fear       1.00      0.80      0.89        15\n",
            "       happy       0.93      1.00      0.97        42\n",
            "     sadness       1.00      1.00      1.00        17\n",
            "    surprise       1.00      1.00      1.00        50\n",
            "\n",
            "    accuracy                           0.98       197\n",
            "   macro avg       0.99      0.97      0.98       197\n",
            "weighted avg       0.99      0.98      0.98       197\n",
            "\n"
          ]
        }
      ]
    },
    {
      "cell_type": "code",
      "source": [
        "from sklearn.metrics import confusion_matrix\n",
        "import seaborn as sns\n",
        "import matplotlib.pyplot as plt\n",
        "\n",
        "cm = confusion_matrix(y_test, y_pred, labels=model.classes_)\n",
        "sns.heatmap(cm, annot=True, fmt='d', xticklabels=model.classes_, yticklabels=model.classes_)\n",
        "plt.xlabel(\"Predicted\")\n",
        "plt.ylabel(\"True\")\n",
        "plt.title(\"Confusion Matrix\")\n",
        "plt.show()\n"
      ],
      "metadata": {
        "colab": {
          "base_uri": "https://localhost:8080/",
          "height": 524
        },
        "id": "YJNfFTCuugVf",
        "outputId": "e73b3fb7-ab16-4a70-eb8a-1f79d0e1a39d"
      },
      "execution_count": null,
      "outputs": [
        {
          "output_type": "display_data",
          "data": {
            "text/plain": [
              "<Figure size 640x480 with 2 Axes>"
            ],
            "image/png": "[encoded data removed]"
          },
          "metadata": {}
        }
      ]
    },
    {
      "cell_type": "code",
      "source": [
        "for true, pred in zip(y_test[:10], y_pred[:10]):\n",
        "    print(f\"Actual: {true:<10} | Predicted: {pred}\")\n"
      ],
      "metadata": {
        "colab": {
          "base_uri": "https://localhost:8080/"
        },
        "id": "aRTkf1kJukxc",
        "outputId": "9659f38c-5e99-43ce-e642-1d0dc6a7403d"
      },
      "execution_count": null,
      "outputs": [
        {
          "output_type": "stream",
          "name": "stdout",
          "text": [
            "Actual: surprise   | Predicted: surprise\n",
            "Actual: sadness    | Predicted: sadness\n",
            "Actual: happy      | Predicted: happy\n",
            "Actual: surprise   | Predicted: surprise\n",
            "Actual: fear       | Predicted: happy\n",
            "Actual: happy      | Predicted: happy\n",
            "Actual: happy      | Predicted: happy\n",
            "Actual: sadness    | Predicted: sadness\n",
            "Actual: happy      | Predicted: happy\n",
            "Actual: disgust    | Predicted: disgust\n"
          ]
        }
      ]
    },
    {
      "cell_type": "code",
      "source": [
        "import cv2\n",
        "from skimage.feature import hog\n",
        "\n",
        "model = joblib.load('hog_svm_emotion_classifier.pkl')\n",
        "face_cascade = cv2.CascadeClassifier(cv2.data.haarcascades + 'haarcascade_frontalface_default.xml')\n",
        "\n",
        "cap = cv2.VideoCapture('/content/39837-424360872_small.mp4')\n",
        "output_dir = 'emotion_predictions'\n",
        "os.makedirs(output_dir, exist_ok=True)\n",
        "\n",
        "img_size = (128, 128)\n",
        "\n",
        "frame_id = 0\n",
        "while True:\n",
        "    ret, frame = cap.read()\n",
        "    if not ret:\n",
        "        break\n",
        "\n",
        "    gray = cv2.cvtColor(frame, cv2.COLOR_BGR2GRAY)\n",
        "    faces = face_cascade.detectMultiScale(gray, 1.1, 5)\n",
        "\n",
        "    for (x, y, w, h) in faces:\n",
        "        face = gray[y:y+h, x:x+w]\n",
        "        face_resized = cv2.resize(face, img_size)\n",
        "        features = hog(face_resized, orientations=9, pixels_per_cell=(8,8),\n",
        "                       cells_per_block=(2,2), block_norm='L2-Hys', feature_vector=True).reshape(1, -1)\n",
        "\n",
        "        pred = model.predict(features)[0]\n",
        "        cv2.rectangle(frame, (x, y), (x+w, y+h), (0, 255, 0), 2)\n",
        "        cv2.putText(frame, pred, (x, y-10), cv2.FONT_HERSHEY_SIMPLEX, 0.9, (255,255,255), 2)\n",
        "\n",
        "    cv2.imwrite(f\"{output_dir}/frame_{frame_id:04d}.jpg\", frame)\n",
        "    frame_id += 1\n",
        "\n",
        "cap.release()\n",
        "print(\"✅ Predictions complete.\")\n"
      ],
      "metadata": {
        "colab": {
          "base_uri": "https://localhost:8080/"
        },
        "id": "RMlO1p5F3NxK",
        "outputId": "e2f6c8e2-65db-4a31-db46-f487a56b517b"
      },
      "execution_count": null,
      "outputs": [
        {
          "output_type": "stream",
          "name": "stdout",
          "text": [
            "✅ Predictions complete.\n"
          ]
        }
      ]
    },
    {
      "cell_type": "markdown",
      "source": [
        "Facial extraction using SIFT and SVM model\n"
      ],
      "metadata": {
        "id": "NWxlAFBW4nQR"
      }
    },
    {
      "cell_type": "code",
      "source": [
        "import cv2\n",
        "import numpy as np\n",
        "from sklearn.model_selection import train_test_split\n",
        "from sklearn.svm import SVC\n",
        "from sklearn.metrics import classification_report, accuracy_score, confusion_matrix\n",
        "import joblib\n",
        "\n",
        "sift = cv2.SIFT_create()\n",
        "X, y = [], []\n",
        "\n",
        "for emotion in os.listdir(output_path):\n",
        "    folder = os.path.join(output_path, emotion)\n",
        "    for file in os.listdir(folder):\n",
        "        path = os.path.join(folder, file)\n",
        "        img = cv2.imread(path, cv2.IMREAD_GRAYSCALE)\n",
        "\n",
        "        keypoints, descriptors = sift.detectAndCompute(img, None)\n",
        "\n",
        "        if descriptors is not None:\n",
        "            # Average to get fixed-size 128-D vector\n",
        "            descriptor_mean = np.mean(descriptors, axis=0)\n",
        "            X.append(descriptor_mean)\n",
        "            y.append(emotion)\n",
        "\n",
        "X = np.array(X)\n",
        "y = np.array(y)\n",
        "\n",
        "X_train, X_test, y_train, y_test = train_test_split(X, y, test_size=0.2, stratify=y, random_state=42)\n",
        "\n",
        "model = SVC(kernel='linear', probability=True)\n",
        "model.fit(X_train, y_train)\n",
        "\n",
        "joblib.dump(model, 'sift_svm_emotion_classifier.pkl')\n",
        "print(\"✅ SIFT model trained and saved.\")\n",
        "\n",
        "y_pred = model.predict(X_test)\n",
        "print(\"✅ Accuracy:\", accuracy_score(y_test, y_pred))\n",
        "print(classification_report(y_test, y_pred))\n"
      ],
      "metadata": {
        "colab": {
          "base_uri": "https://localhost:8080/"
        },
        "id": "dIVqv0jQ4yJ6",
        "outputId": "5a6ceedb-c93a-469f-f21d-bcdc7936b01b"
      },
      "execution_count": null,
      "outputs": [
        {
          "output_type": "stream",
          "name": "stdout",
          "text": [
            "✅ SIFT model trained and saved.\n",
            "✅ Accuracy: 0.8426395939086294\n",
            "              precision    recall  f1-score   support\n",
            "\n",
            "       anger       0.68      0.85      0.75        27\n",
            "    contempt       0.71      0.91      0.80        11\n",
            "     disgust       0.88      0.86      0.87        35\n",
            "        fear       0.57      0.87      0.68        15\n",
            "       happy       0.97      0.86      0.91        42\n",
            "     sadness       0.92      0.65      0.76        17\n",
            "    surprise       1.00      0.86      0.92        50\n",
            "\n",
            "    accuracy                           0.84       197\n",
            "   macro avg       0.82      0.84      0.81       197\n",
            "weighted avg       0.87      0.84      0.85       197\n",
            "\n"
          ]
        }
      ]
    },
    {
      "cell_type": "code",
      "source": [
        "import cv2\n",
        "import os\n",
        "import joblib\n",
        "import numpy as np\n",
        "\n",
        "model = joblib.load('sift_svm_emotion_classifier.pkl')\n",
        "sift = cv2.SIFT_create()\n",
        "face_cascade = cv2.CascadeClassifier(cv2.data.haarcascades + 'haarcascade_frontalface_default.xml')\n",
        "\n",
        "cap = cv2.VideoCapture('/content/39837-424360872_small.mp4')\n",
        "output_dir = 'sift_emotion_predictions'\n",
        "os.makedirs(output_dir, exist_ok=True)\n",
        "\n",
        "img_size = (128, 128)\n",
        "frame_id = 0\n",
        "\n",
        "while True:\n",
        "    ret, frame = cap.read()\n",
        "    if not ret:\n",
        "        break\n",
        "\n",
        "    gray = cv2.cvtColor(frame, cv2.COLOR_BGR2GRAY)\n",
        "    faces = face_cascade.detectMultiScale(gray, 1.1, 5)\n",
        "\n",
        "    for (x, y, w, h) in faces:\n",
        "        face = gray[y:y+h, x:x+w]\n",
        "        face_resized = cv2.resize(face, img_size)\n",
        "\n",
        "        keypoints, descriptors = sift.detectAndCompute(face_resized, None)\n",
        "\n",
        "        if descriptors is None:\n",
        "            continue\n",
        "\n",
        "        descriptor_mean = np.mean(descriptors, axis=0).reshape(1, -1)\n",
        "\n",
        "        if descriptor_mean.shape[1] != model.n_features_in_:\n",
        "            print(f'Skipped frame {frame_id}: feature size mismatch')\n",
        "            continue\n",
        "\n",
        "        pred = model.predict(descriptor_mean)[0]\n",
        "        cv2.rectangle(frame, (x, y), (x+w, y+h), (0, 255, 0), 2)\n",
        "        cv2.putText(frame, pred, (x, y-10), cv2.FONT_HERSHEY_SIMPLEX, 0.9, (255,255,255), 2)\n",
        "\n",
        "    cv2.imwrite(f\"{output_dir}/frame_{frame_id:04d}.jpg\", frame)\n",
        "    frame_id += 1\n",
        "\n",
        "cap.release()\n",
        "print(\"✅ SIFT-based video prediction complete.\")\n"
      ],
      "metadata": {
        "colab": {
          "base_uri": "https://localhost:8080/",
          "height": 211
        },
        "id": "qCuLorNQENbp",
        "outputId": "eb208009-233c-4d55-8c7a-6da608b3e0f9"
      },
      "execution_count": null,
      "outputs": [
        {
          "output_type": "error",
          "ename": "KeyboardInterrupt",
          "evalue": "",
          "traceback": [
            "\u001b[0;31m---------------------------------------------------------------------------\u001b[0m",
            "\u001b[0;31mKeyboardInterrupt\u001b[0m                         Traceback (most recent call last)",
            "\u001b[0;32m<ipython-input-16-81106f717258>\u001b[0m in \u001b[0;36m<cell line: 0>\u001b[0;34m()\u001b[0m\n\u001b[1;32m     21\u001b[0m \u001b[0;34m\u001b[0m\u001b[0m\n\u001b[1;32m     22\u001b[0m     \u001b[0mgray\u001b[0m \u001b[0;34m=\u001b[0m \u001b[0mcv2\u001b[0m\u001b[0;34m.\u001b[0m\u001b[0mcvtColor\u001b[0m\u001b[0;34m(\u001b[0m\u001b[0mframe\u001b[0m\u001b[0;34m,\u001b[0m \u001b[0mcv2\u001b[0m\u001b[0;34m.\u001b[0m\u001b[0mCOLOR_BGR2GRAY\u001b[0m\u001b[0;34m)\u001b[0m\u001b[0;34m\u001b[0m\u001b[0;34m\u001b[0m\u001b[0m\n\u001b[0;32m---> 23\u001b[0;31m     \u001b[0mfaces\u001b[0m \u001b[0;34m=\u001b[0m \u001b[0mface_cascade\u001b[0m\u001b[0;34m.\u001b[0m\u001b[0mdetectMultiScale\u001b[0m\u001b[0;34m(\u001b[0m\u001b[0mgray\u001b[0m\u001b[0;34m,\u001b[0m \u001b[0;36m1.1\u001b[0m\u001b[0;34m,\u001b[0m \u001b[0;36m5\u001b[0m\u001b[0;34m)\u001b[0m\u001b[0;34m\u001b[0m\u001b[0;34m\u001b[0m\u001b[0m\n\u001b[0m\u001b[1;32m     24\u001b[0m \u001b[0;34m\u001b[0m\u001b[0m\n\u001b[1;32m     25\u001b[0m     \u001b[0;32mfor\u001b[0m \u001b[0;34m(\u001b[0m\u001b[0mx\u001b[0m\u001b[0;34m,\u001b[0m \u001b[0my\u001b[0m\u001b[0;34m,\u001b[0m \u001b[0mw\u001b[0m\u001b[0;34m,\u001b[0m \u001b[0mh\u001b[0m\u001b[0;34m)\u001b[0m \u001b[0;32min\u001b[0m \u001b[0mfaces\u001b[0m\u001b[0;34m:\u001b[0m\u001b[0;34m\u001b[0m\u001b[0;34m\u001b[0m\u001b[0m\n",
            "\u001b[0;31mKeyboardInterrupt\u001b[0m: "
          ]
        }
      ]
    },
    {
      "cell_type": "code",
      "source": [
        "import cv2\n",
        "import os\n",
        "\n",
        "# Path to your saved prediction frames\n",
        "frames_path = '/content/emotion_predictions'\n",
        "output_video_path = 'emotion_results_output.mp4'\n",
        "\n",
        "# Get sorted frame filenames\n",
        "frame_files = sorted([f for f in os.listdir(frames_path) if f.endswith('.jpg')])\n",
        "\n",
        "# Read the first frame to get dimensions\n",
        "first_frame = cv2.imread(os.path.join(frames_path, frame_files[0]))\n",
        "height, width, _ = first_frame.shape\n",
        "\n",
        "# Define video writer\n",
        "fps = 24  # Adjust if needed to match original video\n",
        "fourcc = cv2.VideoWriter_fourcc(*'mp4v')  # For .mp4 output\n",
        "out = cv2.VideoWriter(output_video_path, fourcc, fps, (width, height))\n",
        "\n",
        "# Write each frame into the video\n",
        "for filename in frame_files:\n",
        "    frame = cv2.imread(os.path.join(frames_path, filename))\n",
        "    out.write(frame)\n",
        "\n",
        "out.release()\n",
        "print(f\"✅ Video saved as: {output_video_path}\")\n"
      ],
      "metadata": {
        "colab": {
          "base_uri": "https://localhost:8080/"
        },
        "id": "agwKr7Z4Bs-5",
        "outputId": "8aeb0a1d-04f8-4d8b-9c73-2b58dba69225"
      },
      "execution_count": null,
      "outputs": [
        {
          "output_type": "stream",
          "name": "stdout",
          "text": [
            "✅ Video saved as: emotion_results_output.mp4\n"
          ]
        }
      ]
    },
    {
      "cell_type": "markdown",
      "source": [
        "In this project, both HOG (Histogram of Oriented Gradients) and SIFT (Scale-Invariant Feature Transform) were used to extract facial features after detecting faces using Haar cascades. These features were then used to train classical machine learning models for emotion classification.\n",
        "\n",
        "We first tested the HOG + SVM pipeline, which achieved an accuracy of 1.00 (100%) on the test set — indicating perfect performance. We also visualized HOG feature maps to better understand how the model captured facial muscle movements, and observed that the predicted emotion labels closely matched the actual labels in nearly all cases.\n",
        "\n",
        "To ensure fairness, we also tested a model using SIFT features averaged into fixed-size vectors. While it performed reasonably well, the HOG-based model significantly outperformed it in both accuracy and consistency.\n",
        "\n",
        "Based on these results, HOG with SVM was chosen as the final model, as it proved to be more effective for distinguishing facial expressions in the CK+ dataset using classical machine learning techniques."
      ],
      "metadata": {
        "id": "rBLmOu52H-Qj"
      }
    }
  ]
}